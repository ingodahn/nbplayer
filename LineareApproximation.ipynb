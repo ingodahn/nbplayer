{
 "cells": [
  {
   "cell_type": "markdown",
   "metadata": {
    "collapsed": false
   },
   "source": [
    "Dieses Material beruht auf dem ersten Abschnitt von _Linear and Quadratic Approximation Notes_ von Aaron Tresham, University of Hawaii at Hilo. Es ist lizensiert unter der Lizenz <a rel=\"license\" href=\"http://creativecommons.org/licenses/by-sa/4.0/\">Creative Commons Attribution-ShareAlike 4.0 International License</a> <a rel=\"license\" href=\"http://creativecommons.org/licenses/by-sa/4.0/\"><img alt=\"Creative Commons License\" style=\"border-width:0\" src=\"https://i.creativecommons.org/l/by-sa/4.0/80x15.png\" /></a>."
   ]
  },
  {
   "cell_type": "markdown",
   "metadata": {
    "collapsed": false
   },
   "source": [
    "### Notebooks\n",
    "\n",
    "<b>\n",
    "    Dies ist ein Jupyter Notebook. Es besteht aus einer Folge von Textzellen und interaktiven Zellen. Interaktive Zellen führen die mit In[] gekennzeichneten Eingaben mit Hilfe eines Kerns - hier des Computeralgebrasystems SageMath - aus und zeigen das Ergebnis an.\n",
    "\n",
    "Um die Ausführung einer solchen Zelle zu veranlassen gibt es mehrere Möglichkeiten:\n",
    "\n",
    "- Klicken Sie in die Zelle und drücken Sie die Tasten `Shift+Return`\n",
    "- Benutzen Sie die Run-Taste in der Werkzeugleiste\n",
    "- Um alle Zellen von der ersten bis zur letzten auszuführen wählen Sie im Menü Cell->Run All\n",
    "\n",
    "Nach einem Doppelklick können Sie jede Zelle bearbeiten. So können Sie z.B. interaktive Zellen mit eigenen Daten und Befehlen füllen.\n",
    "    \n",
    "Weitere Informationen erreichen Sie über das Help-Menü.\n",
    "</b>"
   ]
  },
  {
   "cell_type": "markdown",
   "metadata": {
    "collapsed": false
   },
   "source": [
    "### Voraussetzungen:\n",
    "\n",
    "* Einführung in Sage (<a href=\"https://netmath.vcrp.de/downloads/Systeme/Sage/SageBefehle.html\" target=\"_blank\">Grundlegende Befehle</a>)\n",
    "* Tangenten (<a href=\"https://netmath.vcrp.de/IMathAS/embedq.php?theme=netmath&id=7506\" target=\"_blank\">Kontrollaufgabe</a>)\n",
    "* Ableitungen (<a href=\"https://netmath.vcrp.de/IMathAS/embedq.php?theme=netmath&id=2154\" target=\"_blank\">Kontrollaufgabe</a>)"
   ]
  },
  {
   "cell_type": "markdown",
   "metadata": {
    "collapsed": false
   },
   "source": [
    "# Lineare Approximation\n",
    "## Ingo Dahn\n",
    "\n",
    "Es ist oft zweckmäßig, eine komplizierte Funktion durch eine einfacher zu berechnende Funktion näherungsweise zu berechnen. Oft ist die \"einfachere\" Funktion dabei ein Polynom. Die einfachsten Polynome sind lineare Funktionen, also Polynome vom Grad 1. Die Annäherung einer komplexen Funktion durch eine lineare Funktion heißt _Linearisierung_ oder _lineare Approximation_.The simplest polynomial is a straight line (degree 1). Approximating a function with a linear function is called linearization (or linear approximation).\n",
    "\n",
    "Praktisch ist es meist nicht notwendig, für lineare Approximationen einen Computer zu verwenden - Computer können viel genauer rechnen. Dies bietet uns aber eine gute Möglichkeit zu untersuchen, _wie genau_ selbst eine einfache lineare Approximation sein kann."
   ]
  },
  {
   "cell_type": "markdown",
   "metadata": {
    "collapsed": false
   },
   "source": [
    "## Linearisierung\n",
    "Wie wir wissen, verlaufen die Graphen differenzierbarer Funktionen in der Umgebung eines Punktes nahe an ihren Tangenten in diesem Punkt.Deshalb können differenzierbare Funktionen dort durch die lineare Funktion angenähert werden, die diese Tangente beschreibt.\n",
    "\n",
    "Wie genau ist eine solche Approximation? Wir untersuchen das an einem einfachen Beispiel."
   ]
  },
  {
   "cell_type": "markdown",
   "metadata": {
    "collapsed": false
   },
   "source": [
    "## Beispiel\n",
    "\n",
    "Wir wollen $\\sqrt[3]{28}$ näherungsweise ohne Computer oder Taschenrechner berechnen. Dies ist (zumindest ohne Hilfsmittel) kompliziert. Deshalb approximieren wir die Kubikwurzelfunktion durch eine lineare Funktion, die eine Tangente beschreibt.\n",
    "\n",
    "Wo wollen wir die Tangente an den Graphen der Kubikwurzelfunktion legen? Dafür gibt es 2 Anforderungen:\n",
    "\n",
    "1. Die x-Koordinate muss nahe bei 28 liegen, da unsere Aprroximation nur in der Nähe des Tangentialpunktes funktioniert.\n",
    "\n",
    "2. An dieser x-Koordinate $x_1=28$ muss sich die Kubikwurzel (d.h. die zugehörige y-Koordinate) einfach berechnen lassen, denn an dieser Stelle benötigen wir einen möglichst genauen Wert, um die Gleichung der Tangente zu bestimmen.\n",
    "\n",
    "Für dieses Beispiel wählen wir die Tangente bei $x_0=27$. Dieser Wert liegt nahe bei 28, und seine Kubikwurzel $\\sqrt[3]{27}=3$ ist bekannt."
   ]
  },
  {
   "cell_type": "markdown",
   "metadata": {
    "collapsed": false
   },
   "source": [
    "Wir berechnen jetzt die lineare Funktion, die die Tangente beschreibt um sie zur näherungsweisen Berechnung von $\\sqrt[3]{28}$ zu verwenden.\n",
    "\n",
    "Als Erstes definieren wir die Funktion $f(x)=\\sqrt[3]{x}=x^{1/3}$, die wir approximieren wollen und die Werte $x_0$ und $x_1$. Außerdem legen wir die Umgebung von $x_0$ fest, in der wir die Approximation von $f(x$) untersuchen wollen: $x_{min}\\ldots x_{max}=0.75\\cdot x_0\\ldots 1.25 \\cdot x_0$:"
   ]
  },
  {
   "cell_type": "markdown",
   "metadata": {
    "collapsed": false
   },
   "source": [
    "**Hinweis:** Ändern Sie die Werte in dieser Zelle um eine andere Funktion oder eine andere Stelle zu untersuchen."
   ]
  },
  {
   "cell_type": "code",
   "execution_count": 53,
   "metadata": {
    "collapsed": false
   },
   "outputs": [
   ],
   "source": [
    "f(x)=x^(1/3)  #Kubikwurzel\n",
    "x0=27;x1=28\n",
    "x_min=0.75*x0;x_max=1.25*x0"
   ]
  },
  {
   "cell_type": "markdown",
   "metadata": {
    "collapsed": false
   },
   "source": [
    "Wir bestimmen die Ableitung von $f(x)$:"
   ]
  },
  {
   "cell_type": "code",
   "execution_count": 54,
   "metadata": {
    "collapsed": false,
    "jupyter": {
    }
   },
   "outputs": [
    {
     "data": {
      "text/html": [
       "<html><script type=\"math/tex; mode=display\">\\newcommand{\\Bold}[1]{\\mathbf{#1}}\\frac{1}{3 \\, x^{\\frac{2}{3}}}</script></html>"
      ],
      "text/plain": [
       "1/3/x^(2/3)"
      ]
     },
     "execution_count": 54,
     "metadata": {
     },
     "output_type": "execute_result"
    }
   ],
   "source": [
    "df(x)=derivative(f,x);\n",
    "show(df(x))"
   ]
  },
  {
   "cell_type": "markdown",
   "metadata": {
    "collapsed": false
   },
   "source": [
    "Als Nächstes benötigen wir $f'(x_0)=f'(27)$ um den Anstieg der Tangente zu bestimmen. Da $f(27)$ einfach zu berechnen ist, sollte die Berechnung von $f'(27)$ auch nicht zu kompliziert sein.\n",
    "\n",
    "In diesem Fall ist $\\displaystyle f'(x)=\\frac{1}{3x^{2/3}}$, also $\\displaystyle f'(x_0)=\\frac{1}{3\\cdot x_0^{2/3}}=\\frac{1}{3\\cdot3^2}=\\frac{1}{27}$."
   ]
  },
  {
   "cell_type": "markdown",
   "metadata": {
    "collapsed": false
   },
   "source": [
    "Bestimme eine lineare Funktion für die Tangente: $TL(x)=f(x_0)+f'(x_0)(x-x_0)=3+\\frac{1}{3\\cdot27^{\\frac{2}{3}}}\\cdot(x-27)=\\frac{1}{27}x+2$"
   ]
  },
  {
   "cell_type": "code",
   "execution_count": 55,
   "metadata": {
    "collapsed": false
   },
   "outputs": [
    {
     "data": {
      "text/html": [
       "<html><script type=\"math/tex; mode=display\">\\newcommand{\\Bold}[1]{\\mathbf{#1}}\\frac{1}{3} \\, x + \\frac{2}{3}</script></html>"
      ],
      "text/plain": [
       "1/3*x + 2/3"
      ]
     },
     "execution_count": 55,
     "metadata": {
     },
     "output_type": "execute_result"
    }
   ],
   "source": [
    "TL(x)=f(x0)+df(x0)*(x-x0); show(TL(x))"
   ]
  },
  {
   "cell_type": "markdown",
   "metadata": {
    "collapsed": false
   },
   "source": [
    "Zur Kontrolle stellen wir $f$ and $TL$ nahe $x_0=27$ graphisch dar. (Wenn wir alles von Hand berechnen müssten, würden wir dies sicher nicht tun.)"
   ]
  },
  {
   "cell_type": "code",
   "execution_count": 61,
   "metadata": {
    "collapsed": false
   },
   "outputs": [
    {
     "data": {
      "image/png": "[encoded data removed]",
      "text/plain": [
       "Graphics object consisting of 3 graphics primitives"
      ]
     },
     "execution_count": 61,
     "metadata": {
     },
     "output_type": "execute_result"
    }
   ],
   "source": [
    "# f(x)=x^(1/3);TL(x)=3+1/27*(x-27)\n",
    "plot(f,xmin=x_min,xmax=x_max)+plot(TL,xmin=x_min,xmax=x_max,color='red')+point((x0,f(x0)),size=25,color='black')"
   ]
  },
  {
   "cell_type": "markdown",
   "metadata": {
    "collapsed": false
   },
   "source": [
    "Wie erwartet verläuft die Tangente in der Umgebung von $x_0=27$ nahe am Graphen von $f$.\n",
    "\n",
    "Nun können wir die Tangente zur Approximation von $\\sqrt[3]{28}$ verwenden.\n",
    "\n",
    "Die Tangente wird durch die Gleichung $TL(x)=\\frac{1}{27}x+2$ beschrieben. Da $\\sqrt[3]{x}\\approx TL(x)$ (nahe $x_0=27$), haben wir $\\sqrt[3]{28}\\approx TL(28)=\\frac{1}{27}\\cdot 28 +2=\\frac{82}{27}\\approx3.0370$."
   ]
  },
  {
   "cell_type": "code",
   "execution_count": 57,
   "metadata": {
    "collapsed": false
   },
   "outputs": [
    {
     "data": {
      "text/plain": [
       "1.03333333333333"
      ]
     },
     "execution_count": 57,
     "metadata": {
     },
     "output_type": "execute_result"
    }
   ],
   "source": [
    "N(TL(x1))"
   ]
  },
  {
   "cell_type": "markdown",
   "metadata": {
    "collapsed": false
   },
   "source": [
    "Vergleichen wir dies mit der Approximation von $\\sqrt[3]{28}$ durch Sage:"
   ]
  },
  {
   "cell_type": "code",
   "execution_count": 58,
   "metadata": {
    "collapsed": false
   },
   "outputs": [
    {
     "data": {
      "text/plain": [
       "1.03228011545637"
      ]
     },
     "execution_count": 58,
     "metadata": {
     },
     "output_type": "execute_result"
    }
   ],
   "source": [
    "N(x1^(1/3))"
   ]
  },
  {
   "cell_type": "markdown",
   "metadata": {
    "collapsed": false
   },
   "source": [
    "Der Unterschied beträgt etwa $3.03703703703704-3.03658897187566=0.000448065161379851$, also ein prozentualer Fehler von etwa $0.0148\\%$.\n",
    "\n",
    "<br>\n",
    "Anmerkung: Prozentualer Fehler $=\\displaystyle\\left|\\frac{\\text{Näherungswertswert}-\\text{Genauer Wert}}{\\text{Genauer Wert}}\\right|\\cdot100$"
   ]
  },
  {
   "cell_type": "code",
   "execution_count": 59,
   "metadata": {
    "collapsed": false
   },
   "outputs": [
    {
     "data": {
      "text/plain": [
       "0.102028302317959"
      ]
     },
     "execution_count": 59,
     "metadata": {
     },
     "output_type": "execute_result"
    }
   ],
   "source": [
    "N(abs((TL(x1)-f(x1))/f(x1))*100)"
   ]
  },
  {
   "cell_type": "markdown",
   "metadata": {
    "collapsed": false
   },
   "source": [
    "**Aufgabe:** Berechnen Sie näherungsweise $\\sqrt[3]{29}$ Da 29 auch noch recht nahe bei 27 liegt können Sie dafür die selbe Tangente verwenden. Setzen Sie dazu einfach den Wert von `x1` auf 29. Wie groß ist der prozentuale Fehler?"
   ]
  },
  {
   "cell_type": "markdown",
   "metadata": {
    "collapsed": false
   },
   "source": [
    "Es ist zu erwarten, dass der prozentuale Fehler größer wird, wenn wir uns von 27 entfernen. Dies sieht man deutlich im folgenden Graphen, der die Entwicklung des prozentualen Fehlers in Abhängigkeit von $x$ darstellt."
   ]
  },
  {
   "cell_type": "code",
   "execution_count": 60,
   "metadata": {
    "collapsed": false
   },
   "outputs": [
    {
     "data": {
      "image/png": "[encoded data removed]",
      "text/plain": [
       "Graphics object consisting of 1 graphics primitive"
      ]
     },
     "execution_count": 60,
     "metadata": {
     },
     "output_type": "execute_result"
    }
   ],
   "source": [
    "plot(abs((TL(x)-f(x))/f(x))*100,xmin=x_min,xmax=x_max,axes_labels=['$x$','Prozentualer Fehler'],fontsize=8)"
   ]
  },
  {
   "cell_type": "markdown",
   "metadata": {
    "collapsed": false
   },
   "source": [
    "Selbst 7 Einheiten von 27 entfernt bleibt der prozentuale Fehler bei der Berechnung von $\\sqrt[3]{x}$ unter 1% - nicht schlecht für eine Berechnung, die man beim Mittagessen auf der Serviette durchführen kann!"
   ]
  },
  {
   "cell_type": "markdown",
   "metadata": {
    "collapsed": false
   },
   "source": [
    "**Aufgabe:** Experimentieren Sie mit weiteren Funktionen! Berechnen Sie z.B. näherungsweise $\\sqrt{3}$. Wie groß ist der prozentuale Fehler?\n",
    "\n",
    "**Kontrollaufgabe:** Berechnen Sie <a href=\"https://netmath.vcrp.de/IMathAS/embedq.php?theme=netmath&id=7562\" target=\"_blank\">in dieser Aufgabe</a> $\\sin(0.5)$ näherungsweise mit Hilfe einer Näherung von $\\sqrt{3}$!"
   ]
  },
  {
   "cell_type": "code",
   "execution_count": 0,
   "metadata": {
    "collapsed": false
   },
   "outputs": [
   ],
   "source": [
   ]
  }
 ],
 "metadata": {
  "kernelspec": {
   "display_name": "SageMath (stable)",
   "language": "sagemath",
   "metadata": {
    "cocalc": {
     "description": "Open-source mathematical software system",
     "priority": 10,
     "url": "https://www.sagemath.org/"
    }
   },
   "name": "sagemath"
  },
  "language_info": {
   "codemirror_mode": {
    "name": "ipython",
    "version": 2
   },
   "file_extension": ".py",
   "mimetype": "text/x-python",
   "name": "python",
   "nbconvert_exporter": "python",
   "pygments_lexer": "ipython2",
   "version": "2.7.15"
  }
 },
 "nbformat": 4,
 "nbformat_minor": 0
}